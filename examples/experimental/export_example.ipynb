{
 "cells": [
  {
   "cell_type": "markdown",
   "metadata": {},
   "source": [
    "# Trace Exporting Example"
   ]
  },
  {
   "cell_type": "code",
   "execution_count": null,
   "metadata": {},
   "outputs": [],
   "source": [
    "# Install zipkin python package:\n",
    "# ! pip install opentelemetry-exporter-zipkin-proto-http\n",
    "\n",
    "# Start the zipkin docker container:\n",
    "# ! docker run --rm -d -p 9411:9411 --name zipkin openzipkin/zipkin\n",
    "\n",
    "# Stop the zipkin docker container:\n",
    "# ! docker stop $(docker ps -a -q --filter ancestor=openzipkin/zipkin)"
   ]
  },
  {
   "cell_type": "code",
   "execution_count": null,
   "metadata": {},
   "outputs": [],
   "source": [
    "from opentelemetry.exporter.zipkin.proto.http import ZipkinExporter\n",
    "from trulens_eval import Tru\n",
    "\n",
    "# Need to create dummy endpont for the instrumentation of the DummyAPI to\n",
    "# happen.\n",
    "from trulens_eval.feedback.provider.endpoint.dummy import DummyEndpoint\n",
    "from trulens_eval.tru_custom_app import TruCustomApp\n",
    "\n",
    "from examples.expositional.end2end_apps.custom_app.custom_app import CustomApp\n",
    "\n",
    "DummyEndpoint()\n",
    "\n",
    "tru = Tru(\n",
    "    _otel_exporter=ZipkinExporter(endpoint=\"http://localhost:9411/api/v2/spans\")\n",
    ")\n",
    "\n",
    "tru.reset_database()\n",
    "\n",
    "tru.start_dashboard(force=True)"
   ]
  },
  {
   "cell_type": "code",
   "execution_count": null,
   "metadata": {},
   "outputs": [],
   "source": [
    "# Create custom app:\n",
    "ca = CustomApp()\n",
    "\n",
    "# Create trulens wrapper:\n",
    "ta = TruCustomApp(\n",
    "    ca,\n",
    "    app_id=\"customapp\",\n",
    ")"
   ]
  },
  {
   "cell_type": "code",
   "execution_count": null,
   "metadata": {},
   "outputs": [],
   "source": [
    "# Nested context managers.\n",
    "with ta as recorder1:\n",
    "    ca.llm.generate(\"this is the outer memory remember\")\n",
    "    with ta as recorder2:\n",
    "        ca.memory.remember(\"this is the inner memory remember\")\n",
    "        ca.respond_to_query(\"hello\")"
   ]
  }
 ],
 "metadata": {
  "kernelspec": {
   "display_name": "py312",
   "language": "python",
   "name": "python3"
  },
  "language_info": {
   "codemirror_mode": {
    "name": "ipython",
    "version": 3
   },
   "file_extension": ".py",
   "mimetype": "text/x-python",
   "name": "python",
   "nbconvert_exporter": "python",
   "pygments_lexer": "ipython3"
  }
 },
 "nbformat": 4,
 "nbformat_minor": 2
}
